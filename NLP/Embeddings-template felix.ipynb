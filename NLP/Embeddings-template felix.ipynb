{
 "cells": [
  {
   "cell_type": "code",
   "execution_count": 1,
   "id": "8881f9b5",
   "metadata": {},
   "outputs": [
    {
     "name": "stderr",
     "output_type": "stream",
     "text": [
      "[nltk_data] Downloading package stopwords to\n",
      "[nltk_data]     C:\\Users\\andre\\AppData\\Roaming\\nltk_data...\n",
      "[nltk_data]   Package stopwords is already up-to-date!\n"
     ]
    }
   ],
   "source": [
    "\n",
    "# load required modules\n",
    "\n",
    "# natural language toolkit (https://www.nltk.org/)\n",
    "import nltk  # probably have to install that first\n",
    "nltk.download('stopwords') # this might take somne time\n",
    "from nltk.corpus import stopwords\n",
    "\n",
    "# some stuff from scikit-learn\n",
    "from sklearn.feature_extraction.text import CountVectorizer, TfidfVectorizer\n",
    "from sklearn.metrics.pairwise import cosine_similarity\n",
    "\n",
    "# gensim for word2vec (https://radimrehurek.com/gensim/index.html)\n",
    "from gensim import downloader # probably have to install that first\n",
    "\n",
    "# some character set for punctuations\n",
    "import string # punctuation set is accessed by string.punctuation"
   ]
  },
  {
   "cell_type": "code",
   "execution_count": 2,
   "id": "4aa954bf",
   "metadata": {},
   "outputs": [],
   "source": [
    "# define some sentences\n",
    "# for the exercise it is helpful to have some similar sentences in meaning\n",
    "sentence1 = \"I like to drink water infused with lemons.\"\n",
    "sentence2 = \"water is very good when you are thursty\"\n",
    "sentence3 = \"Did you buy a new car today?\""
   ]
  },
  {
   "cell_type": "markdown",
   "id": "e2d26c68",
   "metadata": {},
   "source": [
    "### Pre-processing"
   ]
  },
  {
   "cell_type": "code",
   "execution_count": 3,
   "id": "4cd307fe",
   "metadata": {},
   "outputs": [],
   "source": [
    "# lowercase transformation by calling .lower()\n",
    "sentence1 = sentence1.lower()\n",
    "sentence2 = sentence2.lower()\n",
    "sentence3 = sentence3.lower()"
   ]
  },
  {
   "cell_type": "code",
   "execution_count": 4,
   "id": "84a2d033",
   "metadata": {},
   "outputs": [
    {
     "name": "stdout",
     "output_type": "stream",
     "text": [
      "{'as', 'had', 'each', 'again', 'down', \"isn't\", 'him', \"didn't\", 'no', 'while', 'does', 'below', 'to', \"shouldn't\", \"wouldn't\", \"couldn't\", 'you', 'when', 'now', 'them', \"needn't\", 'off', 'how', 'same', 'being', 'any', 'i', 'if', \"it's\", 've', 'mustn', 'can', \"you're\", 'be', \"won't\", 'their', 'your', 'mightn', 'there', 'm', 'before', 'in', 'needn', 'both', \"weren't\", \"hasn't\", 'did', 'just', 'through', 'isn', 'nor', 'until', 'have', 'she', 'too', 'which', 'himself', \"hadn't\", 'haven', 'or', 'than', 'that', \"doesn't\", 'hers', 'yours', 'its', 'because', 'didn', 'theirs', 'ain', 'where', \"mustn't\", 'hasn', 'me', 'ours', 'more', 'for', 'from', 'only', 'under', 'doesn', 'doing', 'ourselves', 'all', 'll', 'we', 'with', 'yourself', 'is', 'few', 'here', 'a', 'having', 'are', 'so', 'd', \"should've\", 'herself', 'it', \"you'll\", 'own', \"you've\", 'weren', 'but', 'itself', \"you'd\", 'ma', 'up', 'shouldn', 'between', 'and', \"don't\", 'was', 'most', 'o', \"aren't\", \"mightn't\", 'on', 'do', 'wouldn', 'by', 'our', \"haven't\", 'about', 'into', 't', 'won', 'hadn', 'once', 'will', 'shan', 'yourselves', 'over', 'these', 'above', 'why', \"wasn't\", \"that'll\", 'my', 'he', 'of', 'couldn', 'wasn', 'his', 'whom', 're', 'been', 'y', 'further', \"she's\", 'they', 'am', 'other', 'her', 'has', 'themselves', 's', 'should', 'don', 'aren', 'were', 'against', 'some', 'such', 'at', 'myself', 'not', 'the', 'very', 'this', 'an', 'those', 'who', 'out', 'what', 'after', \"shan't\", 'during', 'then'}\n"
     ]
    }
   ],
   "source": [
    "# remove stopwords (since they are not meaningful)\n",
    "stopWords = set(stopwords.words('english'))\n",
    "print(stopWords)"
   ]
  },
  {
   "cell_type": "code",
   "execution_count": 5,
   "id": "d5532686",
   "metadata": {},
   "outputs": [
    {
     "name": "stderr",
     "output_type": "stream",
     "text": [
      "[nltk_data] Downloading package punkt to\n",
      "[nltk_data]     C:\\Users\\andre\\AppData\\Roaming\\nltk_data...\n",
      "[nltk_data]   Package punkt is already up-to-date!\n"
     ]
    },
    {
     "data": {
      "text/plain": [
       "True"
      ]
     },
     "execution_count": 5,
     "metadata": {},
     "output_type": "execute_result"
    }
   ],
   "source": [
    "# split sentences into words and special characters\n",
    "# you can do this with .split() or use a tokenizer, like from nltk.tokenize import word_tokenize\n",
    "# remove stop words\n",
    "# remove punctuation with string.punctuation\n",
    "from nltk.tokenize import word_tokenize\n",
    "nltk.download('punkt')"
   ]
  },
  {
   "cell_type": "code",
   "execution_count": 6,
   "id": "2a175e1c",
   "metadata": {},
   "outputs": [],
   "source": [
    "sentence1 = sentence1.translate(str.maketrans('','', string.punctuation))\n",
    "sentence2 = sentence2.translate(str.maketrans('','', string.punctuation))\n",
    "sentence3 = sentence3.translate(str.maketrans('','', string.punctuation))"
   ]
  },
  {
   "cell_type": "code",
   "execution_count": 7,
   "id": "bcb5eb2b",
   "metadata": {},
   "outputs": [
    {
     "name": "stdout",
     "output_type": "stream",
     "text": [
      "['i', 'like', 'to', 'drink', 'water', 'infused', 'with', 'lemons']\n",
      "['water', 'is', 'very', 'good', 'when', 'you', 'are', 'thursty']\n",
      "['did', 'you', 'buy', 'a', 'new', 'car', 'today']\n"
     ]
    }
   ],
   "source": [
    "sentence1 = word_tokenize(sentence1)\n",
    "sentence2 = word_tokenize(sentence2)\n",
    "sentence3 = word_tokenize(sentence3)\n",
    "print(sentence1)\n",
    "print(sentence2)\n",
    "print(sentence3)"
   ]
  },
  {
   "cell_type": "code",
   "execution_count": 8,
   "id": "beee8e30",
   "metadata": {},
   "outputs": [
    {
     "name": "stdout",
     "output_type": "stream",
     "text": [
      "{'as', 'had', 'each', 'again', 'down', \"isn't\", 'him', \"didn't\", 'no', 'while', 'does', 'below', 'to', \"shouldn't\", \"wouldn't\", \"couldn't\", 'you', 'when', 'now', 'them', \"needn't\", 'off', 'how', 'same', 'being', 'any', 'i', 'if', \"it's\", 've', 'mustn', 'can', \"you're\", 'be', \"won't\", 'their', 'your', 'mightn', 'there', 'm', 'before', 'in', 'needn', 'both', \"weren't\", \"hasn't\", 'did', 'just', 'through', 'isn', 'nor', 'until', 'have', 'she', 'too', 'which', 'himself', \"hadn't\", 'haven', 'or', 'than', 'that', \"doesn't\", 'hers', 'yours', 'its', 'because', 'didn', 'theirs', 'ain', 'where', \"mustn't\", 'hasn', 'me', 'ours', 'more', 'for', 'from', 'only', 'under', 'doesn', 'doing', 'ourselves', 'all', 'll', 'we', 'with', 'yourself', 'is', 'few', 'here', 'a', 'having', 'are', 'so', 'd', \"should've\", 'herself', 'it', \"you'll\", 'own', \"you've\", 'weren', 'but', 'itself', \"you'd\", 'ma', 'up', 'shouldn', 'between', 'and', \"don't\", 'was', 'most', 'o', \"aren't\", \"mightn't\", 'on', 'do', 'wouldn', 'by', 'our', \"haven't\", 'about', 'into', 't', 'won', 'hadn', 'once', 'will', 'shan', 'yourselves', 'over', 'these', 'above', 'why', \"wasn't\", \"that'll\", 'my', 'he', 'of', 'couldn', 'wasn', 'his', 'whom', 're', 'been', 'y', 'further', \"she's\", 'they', 'am', 'other', 'her', 'has', 'themselves', 's', 'should', 'don', 'aren', 'were', 'against', 'some', 'such', 'at', 'myself', 'not', 'the', 'very', 'this', 'an', 'those', 'who', 'out', 'what', 'after', \"shan't\", 'during', 'then'}\n"
     ]
    }
   ],
   "source": [
    "# remove stopwords (since they are not meaningful)\n",
    "stopWords = set(stopwords.words('english'))\n",
    "print(stopWords)"
   ]
  },
  {
   "cell_type": "code",
   "execution_count": 9,
   "id": "46221d84",
   "metadata": {},
   "outputs": [],
   "source": [
    "sentence1 = [i for i in sentence1 if i not in stopWords]\n",
    "sentence2 = [i for i in sentence2 if i not in stopWords]\n",
    "sentence3 = [i for i in sentence3 if i not in stopWords]"
   ]
  },
  {
   "cell_type": "code",
   "execution_count": 10,
   "id": "2a2c2a1d",
   "metadata": {},
   "outputs": [],
   "source": [
    "# perform stemming if you like\n",
    "from nltk.stem import PorterStemmer # other algorithms are available\n",
    "ps = PorterStemmer()\n",
    "# then call ps.stem(word)"
   ]
  },
  {
   "cell_type": "code",
   "execution_count": 11,
   "id": "c57797c0",
   "metadata": {},
   "outputs": [],
   "source": [
    "# apply to all sentences"
   ]
  },
  {
   "cell_type": "markdown",
   "id": "447dcf41",
   "metadata": {},
   "source": [
    "### Sentence Level Vectorization"
   ]
  },
  {
   "cell_type": "code",
   "execution_count": 12,
   "id": "e077ed80",
   "metadata": {},
   "outputs": [],
   "source": [
    "# use CountVectorizer \n",
    "# https://scikit-learn.org/stable/modules/generated/sklearn.feature_extraction.text.CountVectorizer.html#sklearn.feature_extraction.text.CountVectorizer\n",
    "# print vectors and words in vocabulary"
   ]
  },
  {
   "cell_type": "code",
   "execution_count": 13,
   "id": "59e51fea",
   "metadata": {},
   "outputs": [
    {
     "name": "stdout",
     "output_type": "stream",
     "text": [
      "like drink water infused lemons\n",
      "water good thursty\n",
      "buy new car today\n"
     ]
    }
   ],
   "source": [
    "import sklearn\n",
    "from sklearn.feature_extraction.text import CountVectorizer\n",
    "\n",
    "from nltk.tokenize.treebank import TreebankWordDetokenizer\n",
    "\n",
    "sentence1 = TreebankWordDetokenizer().detokenize(sentence1)\n",
    "sentence2 = TreebankWordDetokenizer().detokenize(sentence2)\n",
    "sentence3 = TreebankWordDetokenizer().detokenize(sentence3)\n",
    "\n",
    "print(sentence1)\n",
    "print(sentence2)\n",
    "print(sentence3)"
   ]
  },
  {
   "cell_type": "code",
   "execution_count": 14,
   "id": "9f9a66db",
   "metadata": {},
   "outputs": [
    {
     "data": {
      "text/html": [
       "<div>\n",
       "<style scoped>\n",
       "    .dataframe tbody tr th:only-of-type {\n",
       "        vertical-align: middle;\n",
       "    }\n",
       "\n",
       "    .dataframe tbody tr th {\n",
       "        vertical-align: top;\n",
       "    }\n",
       "\n",
       "    .dataframe thead th {\n",
       "        text-align: right;\n",
       "    }\n",
       "</style>\n",
       "<table border=\"1\" class=\"dataframe\">\n",
       "  <thead>\n",
       "    <tr style=\"text-align: right;\">\n",
       "      <th></th>\n",
       "      <th>buy</th>\n",
       "      <th>car</th>\n",
       "      <th>drink</th>\n",
       "      <th>good</th>\n",
       "      <th>infused</th>\n",
       "      <th>lemons</th>\n",
       "      <th>like</th>\n",
       "      <th>new</th>\n",
       "      <th>thursty</th>\n",
       "      <th>today</th>\n",
       "      <th>water</th>\n",
       "    </tr>\n",
       "  </thead>\n",
       "  <tbody>\n",
       "    <tr>\n",
       "      <th>0</th>\n",
       "      <td>0</td>\n",
       "      <td>0</td>\n",
       "      <td>1</td>\n",
       "      <td>0</td>\n",
       "      <td>1</td>\n",
       "      <td>1</td>\n",
       "      <td>1</td>\n",
       "      <td>0</td>\n",
       "      <td>0</td>\n",
       "      <td>0</td>\n",
       "      <td>1</td>\n",
       "    </tr>\n",
       "    <tr>\n",
       "      <th>1</th>\n",
       "      <td>0</td>\n",
       "      <td>0</td>\n",
       "      <td>0</td>\n",
       "      <td>1</td>\n",
       "      <td>0</td>\n",
       "      <td>0</td>\n",
       "      <td>0</td>\n",
       "      <td>0</td>\n",
       "      <td>1</td>\n",
       "      <td>0</td>\n",
       "      <td>1</td>\n",
       "    </tr>\n",
       "    <tr>\n",
       "      <th>2</th>\n",
       "      <td>1</td>\n",
       "      <td>1</td>\n",
       "      <td>0</td>\n",
       "      <td>0</td>\n",
       "      <td>0</td>\n",
       "      <td>0</td>\n",
       "      <td>0</td>\n",
       "      <td>1</td>\n",
       "      <td>0</td>\n",
       "      <td>1</td>\n",
       "      <td>0</td>\n",
       "    </tr>\n",
       "  </tbody>\n",
       "</table>\n",
       "</div>"
      ],
      "text/plain": [
       "   buy  car  drink  good  infused  lemons  like  new  thursty  today  water\n",
       "0    0    0      1     0        1       1     1    0        0      0      1\n",
       "1    0    0      0     1        0       0     0    0        1      0      1\n",
       "2    1    1      0     0        0       0     0    1        0      1      0"
      ]
     },
     "execution_count": 14,
     "metadata": {},
     "output_type": "execute_result"
    }
   ],
   "source": [
    "from sklearn.feature_extraction.text import CountVectorizer\n",
    "import pandas as pd\n",
    "\n",
    "coun_vect = CountVectorizer()\n",
    "count_matrix = coun_vect.fit_transform([sentence1, sentence2, sentence3])\n",
    "count_array = count_matrix.toarray()\n",
    "df = pd.DataFrame(data=count_array,columns = coun_vect.get_feature_names_out())\n",
    "df"
   ]
  },
  {
   "cell_type": "code",
   "execution_count": 15,
   "id": "b4f75698",
   "metadata": {},
   "outputs": [],
   "source": [
    "# check the similarity between the sentences with cosine similarity or euclidean distance\n",
    "# for cosine_similarity you can use cosine_similarity(), for a single sentence you need to add .reshape(1,-1) to the vectors\n",
    "# vectors can be obtained with the .toarray method\n"
   ]
  },
  {
   "cell_type": "code",
   "execution_count": 16,
   "id": "9536b131",
   "metadata": {},
   "outputs": [
    {
     "data": {
      "text/plain": [
       "array([0, 0, 1, 0, 1, 1, 1, 0, 0, 0, 1], dtype=int64)"
      ]
     },
     "execution_count": 16,
     "metadata": {},
     "output_type": "execute_result"
    }
   ],
   "source": [
    "df.iloc[0,].to_numpy()"
   ]
  },
  {
   "cell_type": "code",
   "execution_count": 17,
   "id": "1cc413eb",
   "metadata": {},
   "outputs": [
    {
     "name": "stdout",
     "output_type": "stream",
     "text": [
      "{1,2}: 2.449489742783178\n",
      "{1,3}: 3.0\n",
      "{2,3}: 2.6457513110645907\n"
     ]
    }
   ],
   "source": [
    "import numpy as np\n",
    "\n",
    "print(\"{1,2}:\", np.sqrt(np.sum(np.square(df.iloc[0,].to_numpy() - df.iloc[1,].to_numpy()))))\n",
    "print(\"{1,3}:\", np.sqrt(np.sum(np.square(df.iloc[0,].to_numpy() - df.iloc[2,].to_numpy()))))\n",
    "print(\"{2,3}:\", np.sqrt(np.sum(np.square(df.iloc[1,].to_numpy() - df.iloc[2,].to_numpy()))))"
   ]
  },
  {
   "cell_type": "code",
   "execution_count": 18,
   "id": "bead0205",
   "metadata": {},
   "outputs": [],
   "source": [
    "# use ngrams\n",
    "# can use CountVectorizer with option ngram_range=(xx,xx)\n",
    "# check the similarity between the sentences with cosine similarity or euclidean distance"
   ]
  },
  {
   "cell_type": "code",
   "execution_count": 19,
   "id": "2a7648f9",
   "metadata": {},
   "outputs": [
    {
     "data": {
      "text/plain": [
       "array(['buy new', 'car today', 'drink water', 'good thursty',\n",
       "       'infused lemons', 'like drink', 'new car', 'water good',\n",
       "       'water infused'], dtype=object)"
      ]
     },
     "execution_count": 19,
     "metadata": {},
     "output_type": "execute_result"
    }
   ],
   "source": [
    "vectorizer2 = CountVectorizer(analyzer='word', ngram_range=(2, 2))\n",
    "X2 = vectorizer2.fit_transform([sentence1, sentence2, sentence3])\n",
    "vectorizer2.get_feature_names_out()"
   ]
  },
  {
   "cell_type": "code",
   "execution_count": 20,
   "id": "57f68cda",
   "metadata": {},
   "outputs": [],
   "source": [
    "# use tf-idf\n",
    "# https://scikit-learn.org/stable/modules/generated/sklearn.feature_extraction.text.TfidfVectorizer.html#sklearn.feature_extraction.text.TfidfVectorizer\n",
    "# check the similarity between the sentences with cosine similarity or euclidean distance\n"
   ]
  },
  {
   "cell_type": "markdown",
   "id": "0fc27edb",
   "metadata": {},
   "source": [
    "### Word Level Vectorization"
   ]
  },
  {
   "cell_type": "code",
   "execution_count": 21,
   "id": "db100544",
   "metadata": {},
   "outputs": [
    {
     "name": "stdout",
     "output_type": "stream",
     "text": [
      "['fasttext-wiki-news-subwords-300', 'conceptnet-numberbatch-17-06-300', 'word2vec-ruscorpora-300', 'word2vec-google-news-300', 'glove-wiki-gigaword-50', 'glove-wiki-gigaword-100', 'glove-wiki-gigaword-200', 'glove-wiki-gigaword-300', 'glove-twitter-25', 'glove-twitter-50', 'glove-twitter-100', 'glove-twitter-200', '__testing_word2vec-matrix-synopsis']\n"
     ]
    }
   ],
   "source": [
    "# list available models\n",
    "out = downloader.info(name_only=True)\n",
    "print(out['models'])"
   ]
  },
  {
   "cell_type": "code",
   "execution_count": 22,
   "id": "66050e30",
   "metadata": {},
   "outputs": [],
   "source": [
    "# use one of the models with downloader.load()\n",
    "# and show entries with .index_to_keys[:20]"
   ]
  },
  {
   "cell_type": "code",
   "execution_count": 23,
   "id": "6c99b6b1",
   "metadata": {},
   "outputs": [],
   "source": [
    "# use .most_similar(word, topn=5) for finding five most similar words in the model\n",
    "# use .most_similar(negative=[words], topn=5) for finding five most dissimilar words in the model"
   ]
  },
  {
   "cell_type": "code",
   "execution_count": 24,
   "id": "f0c95726",
   "metadata": {},
   "outputs": [],
   "source": [
    "# make word embeddings for the words in the initial sentences\n"
   ]
  },
  {
   "cell_type": "code",
   "execution_count": null,
   "id": "a8c10a7f",
   "metadata": {},
   "outputs": [],
   "source": []
  },
  {
   "cell_type": "code",
   "execution_count": null,
   "id": "67058169",
   "metadata": {},
   "outputs": [],
   "source": []
  },
  {
   "cell_type": "code",
   "execution_count": null,
   "id": "0f79b5d6",
   "metadata": {},
   "outputs": [],
   "source": []
  },
  {
   "cell_type": "code",
   "execution_count": null,
   "id": "5d9dff2b",
   "metadata": {},
   "outputs": [],
   "source": []
  },
  {
   "cell_type": "code",
   "execution_count": null,
   "id": "d26ea2c9",
   "metadata": {},
   "outputs": [],
   "source": []
  },
  {
   "cell_type": "code",
   "execution_count": null,
   "id": "480f7fc9",
   "metadata": {},
   "outputs": [],
   "source": []
  },
  {
   "cell_type": "code",
   "execution_count": null,
   "id": "5bc7690c",
   "metadata": {},
   "outputs": [],
   "source": []
  },
  {
   "cell_type": "code",
   "execution_count": null,
   "id": "467df54b",
   "metadata": {},
   "outputs": [],
   "source": []
  },
  {
   "cell_type": "code",
   "execution_count": null,
   "id": "5d5a9d40",
   "metadata": {},
   "outputs": [],
   "source": []
  },
  {
   "cell_type": "code",
   "execution_count": null,
   "id": "263fda6b",
   "metadata": {},
   "outputs": [],
   "source": []
  },
  {
   "cell_type": "code",
   "execution_count": null,
   "id": "c4ec3b9a",
   "metadata": {},
   "outputs": [],
   "source": []
  },
  {
   "cell_type": "code",
   "execution_count": null,
   "id": "860e921b",
   "metadata": {},
   "outputs": [],
   "source": []
  },
  {
   "cell_type": "code",
   "execution_count": null,
   "id": "dd2ce9cc",
   "metadata": {},
   "outputs": [],
   "source": []
  },
  {
   "cell_type": "code",
   "execution_count": null,
   "id": "0707673c",
   "metadata": {},
   "outputs": [],
   "source": []
  },
  {
   "cell_type": "code",
   "execution_count": null,
   "id": "d43310f7",
   "metadata": {},
   "outputs": [],
   "source": []
  }
 ],
 "metadata": {
  "kernelspec": {
   "display_name": "Python 3 (ipykernel)",
   "language": "python",
   "name": "python3"
  },
  "language_info": {
   "codemirror_mode": {
    "name": "ipython",
    "version": 3
   },
   "file_extension": ".py",
   "mimetype": "text/x-python",
   "name": "python",
   "nbconvert_exporter": "python",
   "pygments_lexer": "ipython3",
   "version": "3.9.6"
  }
 },
 "nbformat": 4,
 "nbformat_minor": 5
}
