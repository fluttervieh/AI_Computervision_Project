{
 "cells": [
  {
   "cell_type": "code",
   "execution_count": 1,
   "id": "8881f9b5",
   "metadata": {},
   "outputs": [
    {
     "name": "stderr",
     "output_type": "stream",
     "text": [
      "[nltk_data] Downloading package stopwords to\n",
      "[nltk_data]     C:\\Users\\andre\\AppData\\Roaming\\nltk_data...\n",
      "[nltk_data]   Package stopwords is already up-to-date!\n"
     ]
    }
   ],
   "source": [
    "# load required modules\n",
    "\n",
    "# natural language toolkit (https://www.nltk.org/)\n",
    "import nltk  # probably have to install that first\n",
    "nltk.download('stopwords') # this might take somne time\n",
    "from nltk.corpus import stopwords\n",
    "\n",
    "# some stuff from scikit-learn\n",
    "from sklearn.feature_extraction.text import CountVectorizer, TfidfVectorizer\n",
    "from sklearn.metrics.pairwise import cosine_similarity\n",
    "\n",
    "# gensim for word2vec (https://radimrehurek.com/gensim/index.html)\n",
    "from gensim import downloader # probably have to install that first\n",
    "\n",
    "# some character set for punctuations\n",
    "import string # punctuation set is accessed by string.punctuation"
   ]
  },
  {
   "cell_type": "code",
   "execution_count": 2,
   "id": "4aa954bf",
   "metadata": {},
   "outputs": [],
   "source": [
    "# define some sentences\n",
    "# for the exercise it is helpful to have some similar sentences in meaning\n"
   ]
  },
  {
   "cell_type": "markdown",
   "id": "e2d26c68",
   "metadata": {},
   "source": [
    "### Pre-processing"
   ]
  },
  {
   "cell_type": "code",
   "execution_count": 3,
   "id": "4cd307fe",
   "metadata": {},
   "outputs": [],
   "source": [
    "# lowercase transformation by calling .lower()\n"
   ]
  },
  {
   "cell_type": "code",
   "execution_count": 4,
   "id": "84a2d033",
   "metadata": {},
   "outputs": [
    {
     "name": "stdout",
     "output_type": "stream",
     "text": [
      "{'was', 'won', 'why', 'did', 'being', 'own', 'up', \"doesn't\", 'or', 'from', \"didn't\", 'himself', 'does', 'more', 'other', 'against', \"wasn't\", 'd', 'where', 'doing', 'ma', 'yourself', 'what', \"shouldn't\", 'the', 'few', \"hasn't\", 'doesn', 'had', 'it', 'than', 're', 'whom', 'too', 's', 'ourselves', \"you'd\", 'during', 'aren', 'these', \"should've\", 'been', 'a', 'such', 'no', 'them', 'will', 'ours', 'nor', 'at', 'mightn', 'o', 'through', 'our', 'shan', 'themselves', 'about', 'am', \"you've\", 'until', 'some', 'hadn', 'on', 'only', 'mustn', 'herself', 'were', 'to', \"haven't\", 'and', 'because', \"she's\", 'if', \"wouldn't\", 'its', 'ain', 'hasn', 'do', \"won't\", 'then', 'just', 'shouldn', 'but', 'me', 'he', 'for', 'yours', 'hers', 'they', 'out', 'who', 'so', 'off', 'didn', \"it's\", 'their', 'you', \"mightn't\", 'that', 'needn', 'those', 'each', 'i', 'is', \"couldn't\", 'very', \"mustn't\", 'can', 'between', 'having', 'of', 'in', \"needn't\", 'we', 'when', 'before', \"don't\", 't', 'as', 'into', 'have', 'above', 'his', 'couldn', \"aren't\", \"weren't\", \"you're\", 'again', 'y', 'should', 'with', 'while', 'itself', 'wouldn', 'has', 'now', 'yourselves', 'how', 'myself', 'over', 'an', 'not', \"isn't\", 'wasn', 'which', 'down', 'same', 'll', 've', \"that'll\", 'by', 'both', 'your', 'this', 'are', 'him', 'all', \"you'll\", 'be', 'under', 'her', 'don', 'isn', 'once', 'weren', 'here', 'my', 'below', 'theirs', 'haven', 'further', 'any', \"shan't\", 'there', \"hadn't\", 'after', 'she', 'm', 'most'}\n"
     ]
    }
   ],
   "source": [
    "# remove stopwords (since they are not meaningful)\n",
    "stopWords = set(stopwords.words('english'))\n",
    "print(stopWords)"
   ]
  },
  {
   "cell_type": "code",
   "execution_count": 5,
   "id": "d5532686",
   "metadata": {},
   "outputs": [],
   "source": [
    "# split sentences into words and special characters\n",
    "# you can do this with .split() or use a tokenizer, like from nltk.tokenize import word_tokenize\n",
    "# remove stop words\n",
    "# remove punctuation with string.punctuation\n",
    "from nltk.tokenize import word_tokenize\n",
    "\n"
   ]
  },
  {
   "cell_type": "code",
   "execution_count": 6,
   "id": "2a2c2a1d",
   "metadata": {},
   "outputs": [],
   "source": [
    "# perform stemming if you like\n",
    "from nltk.stem import PorterStemmer # other algorithms are available\n",
    "ps = PorterStemmer()\n",
    "# then call ps.stem(word)"
   ]
  },
  {
   "cell_type": "code",
   "execution_count": 7,
   "id": "c57797c0",
   "metadata": {},
   "outputs": [],
   "source": [
    "# apply to all sentences"
   ]
  },
  {
   "cell_type": "markdown",
   "id": "447dcf41",
   "metadata": {},
   "source": [
    "### Sentence Level Vectorization"
   ]
  },
  {
   "cell_type": "code",
   "execution_count": null,
   "id": "e077ed80",
   "metadata": {},
   "outputs": [],
   "source": [
    "# use CountVectorizer \n",
    "# https://scikit-learn.org/stable/modules/generated/sklearn.feature_extraction.text.CountVectorizer.html#sklearn.feature_extraction.text.CountVectorizer\n",
    "# print vectors and words in vocabulary"
   ]
  },
  {
   "cell_type": "code",
   "execution_count": null,
   "id": "b4f75698",
   "metadata": {},
   "outputs": [],
   "source": [
    "# check the similarity between the sentences with cosine similarity or euclidean distance\n",
    "# for cosine_similarity you can use cosine_similarity(), for a single sentence you need to add .reshape(1,-1) to the vectors\n",
    "# vectors can be obtained with the .toarray method\n"
   ]
  },
  {
   "cell_type": "code",
   "execution_count": null,
   "id": "bead0205",
   "metadata": {},
   "outputs": [],
   "source": [
    "# use ngrams\n",
    "# can use CountVectorizer with option ngram_range=(xx,xx)\n",
    "# check the similarity between the sentences with cosine similarity or euclidean distance"
   ]
  },
  {
   "cell_type": "code",
   "execution_count": null,
   "id": "57f68cda",
   "metadata": {},
   "outputs": [],
   "source": [
    "# use tf-idf\n",
    "# https://scikit-learn.org/stable/modules/generated/sklearn.feature_extraction.text.TfidfVectorizer.html#sklearn.feature_extraction.text.TfidfVectorizer\n",
    "# check the similarity between the sentences with cosine similarity or euclidean distance\n"
   ]
  },
  {
   "cell_type": "markdown",
   "id": "0fc27edb",
   "metadata": {},
   "source": [
    "### Word Level Vectorization"
   ]
  },
  {
   "cell_type": "code",
   "execution_count": null,
   "id": "db100544",
   "metadata": {},
   "outputs": [],
   "source": [
    "# list available models\n",
    "out = downloader.info(name_only=True)\n",
    "print(out['models'])"
   ]
  },
  {
   "cell_type": "code",
   "execution_count": null,
   "id": "66050e30",
   "metadata": {},
   "outputs": [],
   "source": [
    "# use one of the models with downloader.load()\n",
    "# and show entries with .index_to_keys[:20]"
   ]
  },
  {
   "cell_type": "code",
   "execution_count": null,
   "id": "6c99b6b1",
   "metadata": {},
   "outputs": [],
   "source": [
    "# use .most_similar(word, topn=5) for finding five most similar words in the model\n",
    "# use .most_similar(negative=[words], topn=5) for finding five most dissimilar words in the model"
   ]
  },
  {
   "cell_type": "code",
   "execution_count": null,
   "id": "f0c95726",
   "metadata": {},
   "outputs": [],
   "source": [
    "# make word embeddings for the words in the initial sentences\n"
   ]
  },
  {
   "cell_type": "code",
   "execution_count": null,
   "id": "a8c10a7f",
   "metadata": {},
   "outputs": [],
   "source": []
  }
 ],
 "metadata": {
  "kernelspec": {
   "display_name": "Python 3 (ipykernel)",
   "language": "python",
   "name": "python3"
  },
  "language_info": {
   "codemirror_mode": {
    "name": "ipython",
    "version": 3
   },
   "file_extension": ".py",
   "mimetype": "text/x-python",
   "name": "python",
   "nbconvert_exporter": "python",
   "pygments_lexer": "ipython3",
   "version": "3.9.6"
  }
 },
 "nbformat": 4,
 "nbformat_minor": 5
}
